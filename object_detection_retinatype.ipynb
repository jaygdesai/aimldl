{
 "cells": [
  {
   "cell_type": "code",
   "execution_count": 1,
   "metadata": {},
   "outputs": [
    {
     "name": "stderr",
     "output_type": "stream",
     "text": [
      "Using TensorFlow backend.\n"
     ]
    }
   ],
   "source": [
    "from imageai.Detection import VideoObjectDetection\n",
    "import os\n",
    "import time"
   ]
  },
  {
   "cell_type": "code",
   "execution_count": 2,
   "metadata": {},
   "outputs": [],
   "source": [
    "execution_path = os.getcwd()"
   ]
  },
  {
   "cell_type": "code",
   "execution_count": null,
   "metadata": {},
   "outputs": [],
   "source": [
    "detector = VideoObjectDetection()\n",
    "detector.setModelTypeAsRetinaNet()\n",
    "detector.setModelPath( os.path.join(execution_path , \"models/resnet50_coco_best_v2.0.1.h5\"))\n",
    "detector.loadModel()"
   ]
  },
  {
   "cell_type": "code",
   "execution_count": null,
   "metadata": {},
   "outputs": [],
   "source": [
    "start = time.time()\n",
    "detector.detectObjectsFromVideo(input_file_path=os.path.join(execution_path, \"traffic.mp4\"),\n",
    "                            output_file_path=os.path.join(execution_path, \"traffic_detected_1\")\n",
    "                            , frames_per_second=30, log_progress=False)\n",
    "end = time.time()\n",
    "print('Execution time for retina frames_per_second=30, log_progress=False  is {}'.format((end-start)/3600))"
   ]
  },
  {
   "cell_type": "code",
   "execution_count": null,
   "metadata": {},
   "outputs": [],
   "source": [
    "custom_objects = detector.CustomObjects(person=True, car=True, bus=True, truck=True)\n",
    "\n",
    "start = time.time()\n",
    "detector.detectCustomObjectsFromVideo(custom_objects=custom_objects,\n",
    "                                      input_file_path=os.path.join(execution_path, \"traffic.mp4\"),\n",
    "                                      output_file_path=os.path.join(execution_path, \"traffic_custom_detected\"),\n",
    "                                      frames_per_second=30, log_progress=False)\n",
    "end = time.time()\n",
    "print('Execution time for retina custom_objects, frames_per_second=30, log_progress=False  is {}'.format((end-start)/3600))\n",
    "end-start"
   ]
  },
  {
   "cell_type": "markdown",
   "metadata": {},
   "source": [
    "# Fast"
   ]
  },
  {
   "cell_type": "code",
   "execution_count": 3,
   "metadata": {},
   "outputs": [],
   "source": [
    "detector = VideoObjectDetection()\n",
    "detector.setModelTypeAsRetinaNet()\n",
    "detector.setModelPath( os.path.join(execution_path , \"models/resnet50_coco_best_v2.0.1.h5\"))\n",
    "detector.loadModel(detection_speed=\"fast\")"
   ]
  },
  {
   "cell_type": "code",
   "execution_count": 19,
   "metadata": {},
   "outputs": [
    {
     "name": "stdout",
     "output_type": "stream",
     "text": [
      "Execution time for detection speed=fast, Minimum Percentage Probability = 40, frames_per_second=30, log_progress=False  is 123.76580727100372\n"
     ]
    },
    {
     "data": {
      "text/plain": [
       "7425.948436260223"
      ]
     },
     "execution_count": 19,
     "metadata": {},
     "output_type": "execute_result"
    }
   ],
   "source": [
    "start = time.time()\n",
    "detector.detectObjectsFromVideo(input_file_path=os.path.join(execution_path, \"traffic.mp4\"),\n",
    "                                output_file_path=os.path.join(execution_path, \"traffic_detected_fast\"), \n",
    "                                minimum_percentage_probability=40, \n",
    "                                frames_per_second=30, log_progress=False)\n",
    "end = time.time()\n",
    "print('Execution time for detection speed=fast, Minimum Percentage Probability = 40, frames_per_second=30, log_progress=False  is {}'.format((end-start)/60))\n",
    "end-start"
   ]
  },
  {
   "cell_type": "code",
   "execution_count": 4,
   "metadata": {},
   "outputs": [
    {
     "name": "stdout",
     "output_type": "stream",
     "text": [
      "Execution time for custom detection speed=fast, Minimum Percentage Probability = 40, frames_per_second=30, log_progress=False  is 98.01493677695592\n"
     ]
    },
    {
     "data": {
      "text/plain": [
       "5880.896206617355"
      ]
     },
     "execution_count": 4,
     "metadata": {},
     "output_type": "execute_result"
    }
   ],
   "source": [
    "custom_objects = detector.CustomObjects(person=True, car=True, bus=True, truck=True)\n",
    "\n",
    "start = time.time()\n",
    "detector.detectCustomObjectsFromVideo(custom_objects=custom_objects,\n",
    "                                      input_file_path=os.path.join(execution_path, \"traffic.mp4\"),\n",
    "                                      output_file_path=os.path.join(execution_path, \"traffic_custom_detected_fast\"),\n",
    "                                      minimum_percentage_probability=40,\n",
    "                                      frames_per_second=30, log_progress=False)\n",
    "end = time.time()\n",
    "print('Execution time for custom detection speed=fast, Minimum Percentage Probability = 40, frames_per_second=30, log_progress=False  is {}'.format((end-start)/60))\n",
    "end-start"
   ]
  },
  {
   "cell_type": "code",
   "execution_count": null,
   "metadata": {},
   "outputs": [],
   "source": [
    "start = time.time()\n",
    "detector.detectObjectsFromVideo(input_file_path=os.path.join(execution_path, \"traffic.mp4\"),\n",
    "                                output_file_path=os.path.join(execution_path, \"traffic_detected_fast_1\"), \n",
    "                                minimum_percentage_probability=40, frame_detection_interval=5,\n",
    "                                frames_per_second=30, log_progress=False)\n",
    "end = time.time()\n",
    "print('Execution time for detection speed=fast,frame_detection_interval=5, Minimum Percentage Probability = 40, frames_per_second=30, log_progress=False  is {}'.format((end-start)/60))\n",
    "end-start"
   ]
  },
  {
   "cell_type": "code",
   "execution_count": null,
   "metadata": {},
   "outputs": [],
   "source": [
    "custom_objects = detector.CustomObjects(person=True, car=True, bus=True, truck=True)\n",
    "\n",
    "start = time.time()\n",
    "detector.detectCustomObjectsFromVideo(custom_objects=custom_objects,\n",
    "                                      input_file_path=os.path.join(execution_path, \"traffic.mp4\"),\n",
    "                                      output_file_path=os.path.join(execution_path, \"traffic_custom_detected_fast_1\"),\n",
    "                                      minimum_percentage_probability=40,frame_detection_interval=5,\n",
    "                                      frames_per_second=30, log_progress=False)\n",
    "end = time.time()\n",
    "print('Execution time for custom detection speed=fast,frame_detection_interval=5, Minimum Percentage Probability = 40, frames_per_second=30, log_progress=False  is {}'.format((end-start)/60))\n",
    "end-start"
   ]
  },
  {
   "cell_type": "markdown",
   "metadata": {},
   "source": [
    "# Faster"
   ]
  },
  {
   "cell_type": "code",
   "execution_count": 13,
   "metadata": {},
   "outputs": [],
   "source": [
    "detector = VideoObjectDetection()\n",
    "detector.setModelTypeAsRetinaNet()\n",
    "detector.setModelPath( os.path.join(execution_path , \"models/resnet50_coco_best_v2.0.1.h5\"))\n",
    "detector.loadModel(detection_speed=\"faster\")"
   ]
  },
  {
   "cell_type": "code",
   "execution_count": 14,
   "metadata": {},
   "outputs": [
    {
     "name": "stdout",
     "output_type": "stream",
     "text": [
      "Execution time for detection speed=faster, Minimum Percentage Probability = 30, frames_per_second=30, log_progress=False  is 46.371907826264696\n"
     ]
    },
    {
     "data": {
      "text/plain": [
       "2782.314469575882"
      ]
     },
     "execution_count": 14,
     "metadata": {},
     "output_type": "execute_result"
    }
   ],
   "source": [
    "start = time.time()\n",
    "detector.detectObjectsFromVideo(input_file_path=os.path.join(execution_path, \"traffic.mp4\"),\n",
    "                                output_file_path=os.path.join(execution_path, \"traffic_detected_faster\"), \n",
    "                                minimum_percentage_probability=30, \n",
    "                                frames_per_second=30, log_progress=False)\n",
    "end = time.time()\n",
    "print('Execution time for detection speed=faster, Minimum Percentage Probability = 30, frames_per_second=30, log_progress=False  is {}'.format((end-start)/60))\n",
    "end-start"
   ]
  },
  {
   "cell_type": "code",
   "execution_count": 15,
   "metadata": {},
   "outputs": [
    {
     "name": "stdout",
     "output_type": "stream",
     "text": [
      "Execution time for custom detection speed=faster, Minimum Percentage Probability = 30, frames_per_second=30, log_progress=False  is 42.60001695553462\n"
     ]
    },
    {
     "data": {
      "text/plain": [
       "2556.001017332077"
      ]
     },
     "execution_count": 15,
     "metadata": {},
     "output_type": "execute_result"
    }
   ],
   "source": [
    "custom_objects = detector.CustomObjects(person=True, car=True, bus=True, truck=True)\n",
    "\n",
    "start = time.time()\n",
    "detector.detectCustomObjectsFromVideo(custom_objects=custom_objects,\n",
    "                                      input_file_path=os.path.join(execution_path, \"traffic.mp4\"),\n",
    "                                      output_file_path=os.path.join(execution_path, \"traffic_custom_detected_faster\"),\n",
    "                                      minimum_percentage_probability=30,\n",
    "                                      frames_per_second=30, log_progress=False)\n",
    "end = time.time()\n",
    "print('Execution time for custom detection speed=faster, Minimum Percentage Probability = 30, frames_per_second=30, log_progress=False  is {}'.format((end-start)/60))\n",
    "end-start"
   ]
  },
  {
   "cell_type": "code",
   "execution_count": 16,
   "metadata": {},
   "outputs": [
    {
     "name": "stdout",
     "output_type": "stream",
     "text": [
      "Execution time for detection speed=faster,frame_detection_interval=5, Minimum Percentage Probability = 30, frames_per_second=30, log_progress=False  is 9.35858676036199\n"
     ]
    },
    {
     "data": {
      "text/plain": [
       "561.5152056217194"
      ]
     },
     "execution_count": 16,
     "metadata": {},
     "output_type": "execute_result"
    }
   ],
   "source": [
    "start = time.time()\n",
    "detector.detectObjectsFromVideo(input_file_path=os.path.join(execution_path, \"traffic.mp4\"),\n",
    "                                output_file_path=os.path.join(execution_path, \"traffic_detected_faster_1\"), \n",
    "                                minimum_percentage_probability=30, frame_detection_interval=5,\n",
    "                                frames_per_second=30, log_progress=False)\n",
    "end = time.time()\n",
    "print('Execution time for detection speed=faster,frame_detection_interval=5, Minimum Percentage Probability = 30, frames_per_second=30, log_progress=False  is {}'.format((end-start)/60))\n",
    "end-start"
   ]
  },
  {
   "cell_type": "code",
   "execution_count": 17,
   "metadata": {},
   "outputs": [
    {
     "name": "stdout",
     "output_type": "stream",
     "text": [
      "Execution time for custom detection speed=faster,frame_detection_interval=5, Minimum Percentage Probability = 30, frames_per_second=30, log_progress=False  is 8.828276141484578\n"
     ]
    },
    {
     "data": {
      "text/plain": [
       "529.6965684890747"
      ]
     },
     "execution_count": 17,
     "metadata": {},
     "output_type": "execute_result"
    }
   ],
   "source": [
    "custom_objects = detector.CustomObjects(person=True, car=True, bus=True, truck=True)\n",
    "\n",
    "start = time.time()\n",
    "detector.detectCustomObjectsFromVideo(custom_objects=custom_objects,\n",
    "                                      input_file_path=os.path.join(execution_path, \"traffic.mp4\"),\n",
    "                                      output_file_path=os.path.join(execution_path, \"traffic_custom_detected_faster_1\"),\n",
    "                                      minimum_percentage_probability=30,frame_detection_interval=5,\n",
    "                                      frames_per_second=30, log_progress=False)\n",
    "end = time.time()\n",
    "print('Execution time for custom detection speed=faster,frame_detection_interval=5, Minimum Percentage Probability = 30, frames_per_second=30, log_progress=False  is {}'.format((end-start)/60))\n",
    "end-start"
   ]
  },
  {
   "cell_type": "markdown",
   "metadata": {},
   "source": [
    "# Fastest"
   ]
  },
  {
   "cell_type": "code",
   "execution_count": 8,
   "metadata": {},
   "outputs": [],
   "source": [
    "detector = VideoObjectDetection()\n",
    "detector.setModelTypeAsRetinaNet()\n",
    "detector.setModelPath( os.path.join(execution_path , \"models/resnet50_coco_best_v2.0.1.h5\"))\n",
    "detector.loadModel(detection_speed=\"fastest\")"
   ]
  },
  {
   "cell_type": "code",
   "execution_count": 9,
   "metadata": {},
   "outputs": [
    {
     "name": "stdout",
     "output_type": "stream",
     "text": [
      "Execution time for detection speed=fastest, Minimum Percentage Probability = 20, frames_per_second=30, log_progress=False  is 23.968554047743478\n"
     ]
    },
    {
     "data": {
      "text/plain": [
       "1438.1132428646088"
      ]
     },
     "execution_count": 9,
     "metadata": {},
     "output_type": "execute_result"
    }
   ],
   "source": [
    "start = time.time()\n",
    "detector.detectObjectsFromVideo(input_file_path=os.path.join(execution_path, \"traffic.mp4\"),\n",
    "                                output_file_path=os.path.join(execution_path, \"traffic_detected_fastest\"), \n",
    "                                minimum_percentage_probability=20, \n",
    "                                frames_per_second=30, log_progress=False)\n",
    "end = time.time()\n",
    "print('Execution time for detection speed=fastest, Minimum Percentage Probability = 20, frames_per_second=30, log_progress=False  is {}'.format((end-start)/60))\n",
    "end-start"
   ]
  },
  {
   "cell_type": "code",
   "execution_count": 10,
   "metadata": {},
   "outputs": [
    {
     "name": "stdout",
     "output_type": "stream",
     "text": [
      "Execution time for custom detection speed=fastest, Minimum Percentage Probability = 20, frames_per_second=30, log_progress=False  is 24.931545794010162\n"
     ]
    },
    {
     "data": {
      "text/plain": [
       "1495.8927476406097"
      ]
     },
     "execution_count": 10,
     "metadata": {},
     "output_type": "execute_result"
    }
   ],
   "source": [
    "custom_objects = detector.CustomObjects(person=True, car=True, bus=True, truck=True)\n",
    "\n",
    "start = time.time()\n",
    "detector.detectCustomObjectsFromVideo(custom_objects=custom_objects,\n",
    "                                      input_file_path=os.path.join(execution_path, \"traffic.mp4\"),\n",
    "                                      output_file_path=os.path.join(execution_path, \"traffic_custom_detected_fastest\"),\n",
    "                                      minimum_percentage_probability=20,\n",
    "                                      frames_per_second=30, log_progress=False)\n",
    "end = time.time()\n",
    "print('Execution time for custom detection speed=fastest, Minimum Percentage Probability = 20, frames_per_second=30, log_progress=False  is {}'.format((end-start)/60))\n",
    "end-start"
   ]
  },
  {
   "cell_type": "code",
   "execution_count": 11,
   "metadata": {},
   "outputs": [
    {
     "name": "stdout",
     "output_type": "stream",
     "text": [
      "Execution time for detection speed=fastest,frame_detection_interval=5, Minimum Percentage Probability = 20, frames_per_second=30, log_progress=False  is 8.408785061041515\n"
     ]
    },
    {
     "data": {
      "text/plain": [
       "504.52710366249084"
      ]
     },
     "execution_count": 11,
     "metadata": {},
     "output_type": "execute_result"
    }
   ],
   "source": [
    "start = time.time()\n",
    "detector.detectObjectsFromVideo(input_file_path=os.path.join(execution_path, \"traffic.mp4\"),\n",
    "                                output_file_path=os.path.join(execution_path, \"traffic_detected_fastest_1\"), \n",
    "                                minimum_percentage_probability=20, frame_detection_interval=5,\n",
    "                                frames_per_second=30, log_progress=False)\n",
    "end = time.time()\n",
    "print('Execution time for detection speed=fastest,frame_detection_interval=5, Minimum Percentage Probability = 20, frames_per_second=30, log_progress=False  is {}'.format((end-start)/60))\n",
    "end-start"
   ]
  },
  {
   "cell_type": "code",
   "execution_count": 12,
   "metadata": {},
   "outputs": [
    {
     "name": "stdout",
     "output_type": "stream",
     "text": [
      "Execution time for custom detection speed=fastest,frame_detection_interval=5, Minimum Percentage Probability = 20, frames_per_second=30, log_progress=False  is 8.743868931134541\n"
     ]
    },
    {
     "data": {
      "text/plain": [
       "524.6321358680725"
      ]
     },
     "execution_count": 12,
     "metadata": {},
     "output_type": "execute_result"
    }
   ],
   "source": [
    "custom_objects = detector.CustomObjects(person=True, car=True, bus=True, truck=True)\n",
    "\n",
    "start = time.time()\n",
    "detector.detectCustomObjectsFromVideo(custom_objects=custom_objects,\n",
    "                                      input_file_path=os.path.join(execution_path, \"traffic.mp4\"),\n",
    "                                      output_file_path=os.path.join(execution_path, \"traffic_custom_detected_fastest_1\"),\n",
    "                                      minimum_percentage_probability=20,frame_detection_interval=5,\n",
    "                                      frames_per_second=30, log_progress=False)\n",
    "end = time.time()\n",
    "print('Execution time for custom detection speed=fastest,frame_detection_interval=5, Minimum Percentage Probability = 20, frames_per_second=30, log_progress=False  is {}'.format((end-start)/60))\n",
    "end-start"
   ]
  },
  {
   "cell_type": "markdown",
   "metadata": {},
   "source": [
    "# Flash"
   ]
  },
  {
   "cell_type": "code",
   "execution_count": 3,
   "metadata": {},
   "outputs": [],
   "source": [
    "detector = VideoObjectDetection()\n",
    "detector.setModelTypeAsRetinaNet()\n",
    "detector.setModelPath( os.path.join(execution_path , \"models/resnet50_coco_best_v2.0.1.h5\"))\n",
    "detector.loadModel(detection_speed=\"flash\")"
   ]
  },
  {
   "cell_type": "code",
   "execution_count": 4,
   "metadata": {},
   "outputs": [
    {
     "name": "stdout",
     "output_type": "stream",
     "text": [
      "Execution time for detection speed=flash, Minimum Percentage Probability = 10, frames_per_second=30, log_progress=False  is 17.707224865754444\n"
     ]
    },
    {
     "data": {
      "text/plain": [
       "1062.4334919452667"
      ]
     },
     "execution_count": 4,
     "metadata": {},
     "output_type": "execute_result"
    }
   ],
   "source": [
    "start = time.time()\n",
    "detector.detectObjectsFromVideo(input_file_path=os.path.join(execution_path, \"traffic.mp4\"),\n",
    "                                output_file_path=os.path.join(execution_path, \"traffic_detected_flash\"), \n",
    "                                minimum_percentage_probability=10, \n",
    "                                frames_per_second=30, log_progress=False)\n",
    "end = time.time()\n",
    "print('Execution time for detection speed=flash, Minimum Percentage Probability = 10, frames_per_second=30, log_progress=False  is {}'.format((end-start)/60))\n",
    "end-start"
   ]
  },
  {
   "cell_type": "code",
   "execution_count": 5,
   "metadata": {},
   "outputs": [
    {
     "name": "stdout",
     "output_type": "stream",
     "text": [
      "Execution time for custom detection speed=flash, Minimum Percentage Probability = 10, frames_per_second=30, log_progress=False  is 14.200023539861043\n"
     ]
    },
    {
     "data": {
      "text/plain": [
       "852.0014123916626"
      ]
     },
     "execution_count": 5,
     "metadata": {},
     "output_type": "execute_result"
    }
   ],
   "source": [
    "custom_objects = detector.CustomObjects(person=True, car=True, bus=True, truck=True)\n",
    "\n",
    "start = time.time()\n",
    "detector.detectCustomObjectsFromVideo(custom_objects=custom_objects,\n",
    "                                      input_file_path=os.path.join(execution_path, \"traffic.mp4\"),\n",
    "                                      output_file_path=os.path.join(execution_path, \"traffic_custom_detected_flash\"),\n",
    "                                      minimum_percentage_probability=10,\n",
    "                                      frames_per_second=30, log_progress=False)\n",
    "end = time.time()\n",
    "print('Execution time for custom detection speed=flash, Minimum Percentage Probability = 10, frames_per_second=30, log_progress=False  is {}'.format((end-start)/60))\n",
    "end-start"
   ]
  },
  {
   "cell_type": "code",
   "execution_count": 6,
   "metadata": {},
   "outputs": [
    {
     "name": "stdout",
     "output_type": "stream",
     "text": [
      "Execution time for detection speed=flash,frame_detection_interval=5, Minimum Percentage Probability = 10, frames_per_second=30, log_progress=False  is 3.091422168413798\n"
     ]
    },
    {
     "data": {
      "text/plain": [
       "185.48533010482788"
      ]
     },
     "execution_count": 6,
     "metadata": {},
     "output_type": "execute_result"
    }
   ],
   "source": [
    "start = time.time()\n",
    "detector.detectObjectsFromVideo(input_file_path=os.path.join(execution_path, \"traffic.mp4\"),\n",
    "                                output_file_path=os.path.join(execution_path, \"traffic_detected_flash_1\"), \n",
    "                                minimum_percentage_probability=10, frame_detection_interval=5,\n",
    "                                frames_per_second=30, log_progress=False)\n",
    "end = time.time()\n",
    "print('Execution time for detection speed=flash,frame_detection_interval=5, Minimum Percentage Probability = 10, frames_per_second=30, log_progress=False  is {}'.format((end-start)/60))\n",
    "end-start"
   ]
  },
  {
   "cell_type": "code",
   "execution_count": 7,
   "metadata": {},
   "outputs": [
    {
     "name": "stdout",
     "output_type": "stream",
     "text": [
      "Execution time for custom detection speed=flash,frame_detection_interval=5, Minimum Percentage Probability = 10, frames_per_second=30, log_progress=False  is 3.102216565608978\n"
     ]
    },
    {
     "data": {
      "text/plain": [
       "186.1329939365387"
      ]
     },
     "execution_count": 7,
     "metadata": {},
     "output_type": "execute_result"
    }
   ],
   "source": [
    "custom_objects = detector.CustomObjects(person=True, car=True, bus=True, truck=True)\n",
    "\n",
    "start = time.time()\n",
    "detector.detectCustomObjectsFromVideo(custom_objects=custom_objects,\n",
    "                                      input_file_path=os.path.join(execution_path, \"traffic.mp4\"),\n",
    "                                      output_file_path=os.path.join(execution_path, \"traffic_custom_detected_flash_1\"),\n",
    "                                      minimum_percentage_probability=10,frame_detection_interval=5,\n",
    "                                      frames_per_second=30, log_progress=False)\n",
    "end = time.time()\n",
    "print('Execution time for custom detection speed=flash,frame_detection_interval=5, Minimum Percentage Probability = 10, frames_per_second=30, log_progress=False  is {}'.format((end-start)/60))\n",
    "end-start"
   ]
  },
  {
   "cell_type": "code",
   "execution_count": null,
   "metadata": {},
   "outputs": [],
   "source": []
  }
 ],
 "metadata": {
  "kernelspec": {
   "display_name": "Python 3",
   "language": "python",
   "name": "python3"
  },
  "language_info": {
   "codemirror_mode": {
    "name": "ipython",
    "version": 3
   },
   "file_extension": ".py",
   "mimetype": "text/x-python",
   "name": "python",
   "nbconvert_exporter": "python",
   "pygments_lexer": "ipython3",
   "version": "3.6.6"
  }
 },
 "nbformat": 4,
 "nbformat_minor": 2
}
