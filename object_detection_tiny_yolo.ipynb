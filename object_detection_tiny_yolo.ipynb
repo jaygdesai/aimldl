{
 "cells": [
  {
   "cell_type": "code",
   "execution_count": 1,
   "metadata": {},
   "outputs": [
    {
     "name": "stderr",
     "output_type": "stream",
     "text": [
      "Using TensorFlow backend.\n"
     ]
    }
   ],
   "source": [
    "from imageai.Detection import VideoObjectDetection\n",
    "import os\n",
    "import time"
   ]
  },
  {
   "cell_type": "code",
   "execution_count": 2,
   "metadata": {},
   "outputs": [],
   "source": [
    "execution_path = os.getcwd()"
   ]
  },
  {
   "cell_type": "code",
   "execution_count": 3,
   "metadata": {},
   "outputs": [],
   "source": [
    "detector = VideoObjectDetection()\n",
    "detector.setModelTypeAsTinyYOLOv3()\n",
    "detector.setModelPath( os.path.join(execution_path , \"models/yolo-tiny.h5\"))\n",
    "detector.loadModel()"
   ]
  },
  {
   "cell_type": "code",
   "execution_count": 25,
   "metadata": {},
   "outputs": [
    {
     "name": "stdout",
     "output_type": "stream",
     "text": [
      "Execution time for yolo-tiny frames_per_second=30, log_progress=False  is 0.4706696875890096\n"
     ]
    }
   ],
   "source": [
    "start = time.time()\n",
    "detector.detectObjectsFromVideo(input_file_path=os.path.join(execution_path, \"traffic.mp4\"),\n",
    "                            output_file_path=os.path.join(execution_path, \"traffic_detected_1\")\n",
    "                            , frames_per_second=30, log_progress=False)\n",
    "end = time.time()\n",
    "print('Execution time for yolo-tiny frames_per_second=30, log_progress=False  is {}'.format((end-start)/3600))"
   ]
  },
  {
   "cell_type": "code",
   "execution_count": 24,
   "metadata": {},
   "outputs": [
    {
     "name": "stdout",
     "output_type": "stream",
     "text": [
      "Execution time for yolo-tiny custom_objects, frames_per_second=30, log_progress=False  is 0.23711070848835838\n"
     ]
    },
    {
     "data": {
      "text/plain": [
       "853.5985505580902"
      ]
     },
     "execution_count": 24,
     "metadata": {},
     "output_type": "execute_result"
    }
   ],
   "source": [
    "custom_objects = detector.CustomObjects(person=True, car=True, bus=True, truck=True)\n",
    "\n",
    "start = time.time()\n",
    "detector.detectCustomObjectsFromVideo(custom_objects=custom_objects,\n",
    "                                      input_file_path=os.path.join(execution_path, \"traffic.mp4\"),\n",
    "                                      output_file_path=os.path.join(execution_path, \"traffic_custom_detected\"),\n",
    "                                      frames_per_second=30, log_progress=False)\n",
    "end = time.time()\n",
    "print('Execution time for yolo-tiny custom_objects, frames_per_second=30, log_progress=False  is {}'.format((end-start)/3600))\n",
    "end-start"
   ]
  },
  {
   "cell_type": "markdown",
   "metadata": {},
   "source": [
    "# Fast"
   ]
  },
  {
   "cell_type": "code",
   "execution_count": 9,
   "metadata": {},
   "outputs": [],
   "source": [
    "detector = VideoObjectDetection()\n",
    "detector.setModelTypeAsTinyYOLOv3()\n",
    "detector.setModelPath( os.path.join(execution_path , \"models/yolo-tiny.h5\"))\n",
    "detector.loadModel(detection_speed=\"fast\")"
   ]
  },
  {
   "cell_type": "code",
   "execution_count": 10,
   "metadata": {},
   "outputs": [
    {
     "name": "stdout",
     "output_type": "stream",
     "text": [
      "Execution time for detection speed=fast, Minimum Percentage Probability = 40, frames_per_second=30, log_progress=False  is 42.59217704137166\n"
     ]
    },
    {
     "data": {
      "text/plain": [
       "2555.5306224823"
      ]
     },
     "execution_count": 10,
     "metadata": {},
     "output_type": "execute_result"
    }
   ],
   "source": [
    "start = time.time()\n",
    "detector.detectObjectsFromVideo(input_file_path=os.path.join(execution_path, \"traffic.mp4\"),\n",
    "                                output_file_path=os.path.join(execution_path, \"traffic_detected_fast\"), \n",
    "                                minimum_percentage_probability=40, \n",
    "                                frames_per_second=30, log_progress=False)\n",
    "end = time.time()\n",
    "print('Execution time for detection speed=fast, Minimum Percentage Probability = 40, frames_per_second=30, log_progress=False  is {}'.format((end-start)/60))\n",
    "end-start"
   ]
  },
  {
   "cell_type": "code",
   "execution_count": 11,
   "metadata": {},
   "outputs": [
    {
     "name": "stdout",
     "output_type": "stream",
     "text": [
      "Execution time for custom detection speed=fast, Minimum Percentage Probability = 40, frames_per_second=30, log_progress=False  is 64.43374556303024\n"
     ]
    },
    {
     "data": {
      "text/plain": [
       "3866.0247337818146"
      ]
     },
     "execution_count": 11,
     "metadata": {},
     "output_type": "execute_result"
    }
   ],
   "source": [
    "custom_objects = detector.CustomObjects(person=True, car=True, bus=True, truck=True)\n",
    "\n",
    "start = time.time()\n",
    "detector.detectCustomObjectsFromVideo(custom_objects=custom_objects,\n",
    "                                      input_file_path=os.path.join(execution_path, \"traffic.mp4\"),\n",
    "                                      output_file_path=os.path.join(execution_path, \"traffic_custom_detected_fast\"),\n",
    "                                      minimum_percentage_probability=40,\n",
    "                                      frames_per_second=30, log_progress=False)\n",
    "end = time.time()\n",
    "print('Execution time for custom detection speed=fast, Minimum Percentage Probability = 40, frames_per_second=30, log_progress=False  is {}'.format((end-start)/60))\n",
    "end-start"
   ]
  },
  {
   "cell_type": "code",
   "execution_count": 12,
   "metadata": {},
   "outputs": [
    {
     "name": "stdout",
     "output_type": "stream",
     "text": [
      "Execution time for detection speed=fast,frame_detection_interval=5, Minimum Percentage Probability = 40, frames_per_second=30, log_progress=False  is 13.733391797542572\n"
     ]
    },
    {
     "data": {
      "text/plain": [
       "824.0035078525543"
      ]
     },
     "execution_count": 12,
     "metadata": {},
     "output_type": "execute_result"
    }
   ],
   "source": [
    "start = time.time()\n",
    "detector.detectObjectsFromVideo(input_file_path=os.path.join(execution_path, \"traffic.mp4\"),\n",
    "                                output_file_path=os.path.join(execution_path, \"traffic_detected_fast_1\"), \n",
    "                                minimum_percentage_probability=40, frame_detection_interval=5,\n",
    "                                frames_per_second=30, log_progress=False)\n",
    "end = time.time()\n",
    "print('Execution time for detection speed=fast,frame_detection_interval=5, Minimum Percentage Probability = 40, frames_per_second=30, log_progress=False  is {}'.format((end-start)/60))\n",
    "end-start"
   ]
  },
  {
   "cell_type": "code",
   "execution_count": 13,
   "metadata": {},
   "outputs": [
    {
     "name": "stdout",
     "output_type": "stream",
     "text": [
      "Execution time for custom detection speed=fast,frame_detection_interval=5, Minimum Percentage Probability = 40, frames_per_second=30, log_progress=False  is 13.81772803068161\n"
     ]
    },
    {
     "data": {
      "text/plain": [
       "829.0636818408966"
      ]
     },
     "execution_count": 13,
     "metadata": {},
     "output_type": "execute_result"
    }
   ],
   "source": [
    "custom_objects = detector.CustomObjects(person=True, car=True, bus=True, truck=True)\n",
    "\n",
    "start = time.time()\n",
    "detector.detectCustomObjectsFromVideo(custom_objects=custom_objects,\n",
    "                                      input_file_path=os.path.join(execution_path, \"traffic.mp4\"),\n",
    "                                      output_file_path=os.path.join(execution_path, \"traffic_custom_detected_fast_1\"),\n",
    "                                      minimum_percentage_probability=40,frame_detection_interval=5,\n",
    "                                      frames_per_second=30, log_progress=False)\n",
    "end = time.time()\n",
    "print('Execution time for custom detection speed=fast,frame_detection_interval=5, Minimum Percentage Probability = 40, frames_per_second=30, log_progress=False  is {}'.format((end-start)/60))\n",
    "end-start"
   ]
  },
  {
   "cell_type": "markdown",
   "metadata": {},
   "source": [
    "# Faster"
   ]
  },
  {
   "cell_type": "code",
   "execution_count": 14,
   "metadata": {},
   "outputs": [],
   "source": [
    "detector = VideoObjectDetection()\n",
    "detector.setModelTypeAsTinyYOLOv3()\n",
    "detector.setModelPath( os.path.join(execution_path , \"models/yolo-tiny.h5\"))\n",
    "detector.loadModel(detection_speed=\"faster\")"
   ]
  },
  {
   "cell_type": "code",
   "execution_count": 15,
   "metadata": {},
   "outputs": [
    {
     "name": "stdout",
     "output_type": "stream",
     "text": [
      "Execution time for detection speed=faster, Minimum Percentage Probability = 30, frames_per_second=30, log_progress=False  is 36.304216810067494\n"
     ]
    },
    {
     "data": {
      "text/plain": [
       "2178.2530086040497"
      ]
     },
     "execution_count": 15,
     "metadata": {},
     "output_type": "execute_result"
    }
   ],
   "source": [
    "start = time.time()\n",
    "detector.detectObjectsFromVideo(input_file_path=os.path.join(execution_path, \"traffic.mp4\"),\n",
    "                                output_file_path=os.path.join(execution_path, \"traffic_detected_faster\"), \n",
    "                                minimum_percentage_probability=30, \n",
    "                                frames_per_second=30, log_progress=False)\n",
    "end = time.time()\n",
    "print('Execution time for detection speed=faster, Minimum Percentage Probability = 30, frames_per_second=30, log_progress=False  is {}'.format((end-start)/60))\n",
    "end-start"
   ]
  },
  {
   "cell_type": "code",
   "execution_count": 16,
   "metadata": {},
   "outputs": [
    {
     "name": "stdout",
     "output_type": "stream",
     "text": [
      "Execution time for custom detection speed=faster, Minimum Percentage Probability = 30, frames_per_second=30, log_progress=False  is 21.980524762471518\n"
     ]
    },
    {
     "data": {
      "text/plain": [
       "1318.831485748291"
      ]
     },
     "execution_count": 16,
     "metadata": {},
     "output_type": "execute_result"
    }
   ],
   "source": [
    "custom_objects = detector.CustomObjects(person=True, car=True, bus=True, truck=True)\n",
    "\n",
    "start = time.time()\n",
    "detector.detectCustomObjectsFromVideo(custom_objects=custom_objects,\n",
    "                                      input_file_path=os.path.join(execution_path, \"traffic.mp4\"),\n",
    "                                      output_file_path=os.path.join(execution_path, \"traffic_custom_detected_faster\"),\n",
    "                                      minimum_percentage_probability=30,\n",
    "                                      frames_per_second=30, log_progress=False)\n",
    "end = time.time()\n",
    "print('Execution time for custom detection speed=faster, Minimum Percentage Probability = 30, frames_per_second=30, log_progress=False  is {}'.format((end-start)/60))\n",
    "end-start"
   ]
  },
  {
   "cell_type": "code",
   "execution_count": 17,
   "metadata": {},
   "outputs": [
    {
     "name": "stdout",
     "output_type": "stream",
     "text": [
      "Execution time for detection speed=faster,frame_detection_interval=5, Minimum Percentage Probability = 30, frames_per_second=30, log_progress=False  is 5.554342524210612\n"
     ]
    },
    {
     "data": {
      "text/plain": [
       "333.2605514526367"
      ]
     },
     "execution_count": 17,
     "metadata": {},
     "output_type": "execute_result"
    }
   ],
   "source": [
    "start = time.time()\n",
    "detector.detectObjectsFromVideo(input_file_path=os.path.join(execution_path, \"traffic.mp4\"),\n",
    "                                output_file_path=os.path.join(execution_path, \"traffic_detected_faster_1\"), \n",
    "                                minimum_percentage_probability=30, frame_detection_interval=5,\n",
    "                                frames_per_second=30, log_progress=False)\n",
    "end = time.time()\n",
    "print('Execution time for detection speed=faster,frame_detection_interval=5, Minimum Percentage Probability = 30, frames_per_second=30, log_progress=False  is {}'.format((end-start)/60))\n",
    "end-start"
   ]
  },
  {
   "cell_type": "code",
   "execution_count": 18,
   "metadata": {},
   "outputs": [
    {
     "name": "stdout",
     "output_type": "stream",
     "text": [
      "Execution time for custom detection speed=faster,frame_detection_interval=5, Minimum Percentage Probability = 30, frames_per_second=30, log_progress=False  is 5.329505010445913\n"
     ]
    },
    {
     "data": {
      "text/plain": [
       "319.77030062675476"
      ]
     },
     "execution_count": 18,
     "metadata": {},
     "output_type": "execute_result"
    }
   ],
   "source": [
    "custom_objects = detector.CustomObjects(person=True, car=True, bus=True, truck=True)\n",
    "\n",
    "start = time.time()\n",
    "detector.detectCustomObjectsFromVideo(custom_objects=custom_objects,\n",
    "                                      input_file_path=os.path.join(execution_path, \"traffic.mp4\"),\n",
    "                                      output_file_path=os.path.join(execution_path, \"traffic_custom_detected_faster_1\"),\n",
    "                                      minimum_percentage_probability=30,frame_detection_interval=5,\n",
    "                                      frames_per_second=30, log_progress=False)\n",
    "end = time.time()\n",
    "print('Execution time for custom detection speed=faster,frame_detection_interval=5, Minimum Percentage Probability = 30, frames_per_second=30, log_progress=False  is {}'.format((end-start)/60))\n",
    "end-start"
   ]
  },
  {
   "cell_type": "markdown",
   "metadata": {},
   "source": [
    "# Fastest"
   ]
  },
  {
   "cell_type": "code",
   "execution_count": 19,
   "metadata": {},
   "outputs": [],
   "source": [
    "detector = VideoObjectDetection()\n",
    "detector.setModelTypeAsTinyYOLOv3()\n",
    "detector.setModelPath( os.path.join(execution_path , \"models/yolo-tiny.h5\"))\n",
    "detector.loadModel(detection_speed=\"fastest\")"
   ]
  },
  {
   "cell_type": "code",
   "execution_count": 20,
   "metadata": {},
   "outputs": [
    {
     "name": "stdout",
     "output_type": "stream",
     "text": [
      "Execution time for detection speed=fastest, Minimum Percentage Probability = 20, frames_per_second=30, log_progress=False  is 14.539000395933787\n"
     ]
    },
    {
     "data": {
      "text/plain": [
       "872.3400237560272"
      ]
     },
     "execution_count": 20,
     "metadata": {},
     "output_type": "execute_result"
    }
   ],
   "source": [
    "start = time.time()\n",
    "detector.detectObjectsFromVideo(input_file_path=os.path.join(execution_path, \"traffic.mp4\"),\n",
    "                                output_file_path=os.path.join(execution_path, \"traffic_detected_fastest\"), \n",
    "                                minimum_percentage_probability=20, \n",
    "                                frames_per_second=30, log_progress=False)\n",
    "end = time.time()\n",
    "print('Execution time for detection speed=fastest, Minimum Percentage Probability = 20, frames_per_second=30, log_progress=False  is {}'.format((end-start)/60))\n",
    "end-start"
   ]
  },
  {
   "cell_type": "code",
   "execution_count": 21,
   "metadata": {},
   "outputs": [
    {
     "name": "stdout",
     "output_type": "stream",
     "text": [
      "Execution time for custom detection speed=fastest, Minimum Percentage Probability = 20, frames_per_second=30, log_progress=False  is 14.495470825831095\n"
     ]
    },
    {
     "data": {
      "text/plain": [
       "869.7282495498657"
      ]
     },
     "execution_count": 21,
     "metadata": {},
     "output_type": "execute_result"
    }
   ],
   "source": [
    "custom_objects = detector.CustomObjects(person=True, car=True, bus=True, truck=True)\n",
    "\n",
    "start = time.time()\n",
    "detector.detectCustomObjectsFromVideo(custom_objects=custom_objects,\n",
    "                                      input_file_path=os.path.join(execution_path, \"traffic.mp4\"),\n",
    "                                      output_file_path=os.path.join(execution_path, \"traffic_custom_detected_fastest\"),\n",
    "                                      minimum_percentage_probability=20,\n",
    "                                      frames_per_second=30, log_progress=False)\n",
    "end = time.time()\n",
    "print('Execution time for custom detection speed=fastest, Minimum Percentage Probability = 20, frames_per_second=30, log_progress=False  is {}'.format((end-start)/60))\n",
    "end-start"
   ]
  },
  {
   "cell_type": "code",
   "execution_count": 22,
   "metadata": {},
   "outputs": [
    {
     "name": "stdout",
     "output_type": "stream",
     "text": [
      "Execution time for detection speed=fastest,frame_detection_interval=5, Minimum Percentage Probability = 20, frames_per_second=30, log_progress=False  is 4.988153612613678\n"
     ]
    },
    {
     "data": {
      "text/plain": [
       "299.2892167568207"
      ]
     },
     "execution_count": 22,
     "metadata": {},
     "output_type": "execute_result"
    }
   ],
   "source": [
    "start = time.time()\n",
    "detector.detectObjectsFromVideo(input_file_path=os.path.join(execution_path, \"traffic.mp4\"),\n",
    "                                output_file_path=os.path.join(execution_path, \"traffic_detected_fastest_1\"), \n",
    "                                minimum_percentage_probability=20, frame_detection_interval=5,\n",
    "                                frames_per_second=30, log_progress=False)\n",
    "end = time.time()\n",
    "print('Execution time for detection speed=fastest,frame_detection_interval=5, Minimum Percentage Probability = 20, frames_per_second=30, log_progress=False  is {}'.format((end-start)/60))\n",
    "end-start"
   ]
  },
  {
   "cell_type": "code",
   "execution_count": 23,
   "metadata": {},
   "outputs": [
    {
     "name": "stdout",
     "output_type": "stream",
     "text": [
      "Execution time for custom detection speed=fastest,frame_detection_interval=5, Minimum Percentage Probability = 20, frames_per_second=30, log_progress=False  is 3.5498557488123574\n"
     ]
    },
    {
     "data": {
      "text/plain": [
       "212.99134492874146"
      ]
     },
     "execution_count": 23,
     "metadata": {},
     "output_type": "execute_result"
    }
   ],
   "source": [
    "custom_objects = detector.CustomObjects(person=True, car=True, bus=True, truck=True)\n",
    "\n",
    "start = time.time()\n",
    "detector.detectCustomObjectsFromVideo(custom_objects=custom_objects,\n",
    "                                      input_file_path=os.path.join(execution_path, \"traffic.mp4\"),\n",
    "                                      output_file_path=os.path.join(execution_path, \"traffic_custom_detected_fastest_1\"),\n",
    "                                      minimum_percentage_probability=20,frame_detection_interval=5,\n",
    "                                      frames_per_second=30, log_progress=False)\n",
    "end = time.time()\n",
    "print('Execution time for custom detection speed=fastest,frame_detection_interval=5, Minimum Percentage Probability = 20, frames_per_second=30, log_progress=False  is {}'.format((end-start)/60))\n",
    "end-start"
   ]
  },
  {
   "cell_type": "markdown",
   "metadata": {},
   "source": [
    "# Flash"
   ]
  },
  {
   "cell_type": "code",
   "execution_count": 4,
   "metadata": {},
   "outputs": [],
   "source": [
    "detector = VideoObjectDetection()\n",
    "detector.setModelTypeAsTinyYOLOv3()\n",
    "detector.setModelPath( os.path.join(execution_path , \"models/yolo-tiny.h5\"))\n",
    "detector.loadModel(detection_speed=\"flash\")"
   ]
  },
  {
   "cell_type": "code",
   "execution_count": 5,
   "metadata": {},
   "outputs": [
    {
     "name": "stdout",
     "output_type": "stream",
     "text": [
      "Execution time for detection speed=flash, Minimum Percentage Probability = 10, frames_per_second=30, log_progress=False  is 10.190378793080647\n"
     ]
    },
    {
     "data": {
      "text/plain": [
       "611.4227275848389"
      ]
     },
     "execution_count": 5,
     "metadata": {},
     "output_type": "execute_result"
    }
   ],
   "source": [
    "start = time.time()\n",
    "detector.detectObjectsFromVideo(input_file_path=os.path.join(execution_path, \"traffic.mp4\"),\n",
    "                                output_file_path=os.path.join(execution_path, \"traffic_detected_flash\"), \n",
    "                                minimum_percentage_probability=10, \n",
    "                                frames_per_second=30, log_progress=False)\n",
    "end = time.time()\n",
    "print('Execution time for detection speed=flash, Minimum Percentage Probability = 10, frames_per_second=30, log_progress=False  is {}'.format((end-start)/60))\n",
    "end-start"
   ]
  },
  {
   "cell_type": "code",
   "execution_count": 6,
   "metadata": {},
   "outputs": [
    {
     "name": "stdout",
     "output_type": "stream",
     "text": [
      "Execution time for custom detection speed=flash, Minimum Percentage Probability = 10, frames_per_second=30, log_progress=False  is 10.302208137512206\n"
     ]
    },
    {
     "data": {
      "text/plain": [
       "618.1324882507324"
      ]
     },
     "execution_count": 6,
     "metadata": {},
     "output_type": "execute_result"
    }
   ],
   "source": [
    "custom_objects = detector.CustomObjects(person=True, car=True, bus=True, truck=True)\n",
    "\n",
    "start = time.time()\n",
    "detector.detectCustomObjectsFromVideo(custom_objects=custom_objects,\n",
    "                                      input_file_path=os.path.join(execution_path, \"traffic.mp4\"),\n",
    "                                      output_file_path=os.path.join(execution_path, \"traffic_custom_detected_flash\"),\n",
    "                                      minimum_percentage_probability=10,\n",
    "                                      frames_per_second=30, log_progress=False)\n",
    "end = time.time()\n",
    "print('Execution time for custom detection speed=flash, Minimum Percentage Probability = 10, frames_per_second=30, log_progress=False  is {}'.format((end-start)/60))\n",
    "end-start"
   ]
  },
  {
   "cell_type": "code",
   "execution_count": 7,
   "metadata": {},
   "outputs": [
    {
     "name": "stdout",
     "output_type": "stream",
     "text": [
      "Execution time for detection speed=flash,frame_detection_interval=5, Minimum Percentage Probability = 10, frames_per_second=30, log_progress=False  is 2.744084032376607\n"
     ]
    },
    {
     "data": {
      "text/plain": [
       "164.64504194259644"
      ]
     },
     "execution_count": 7,
     "metadata": {},
     "output_type": "execute_result"
    }
   ],
   "source": [
    "start = time.time()\n",
    "detector.detectObjectsFromVideo(input_file_path=os.path.join(execution_path, \"traffic.mp4\"),\n",
    "                                output_file_path=os.path.join(execution_path, \"traffic_detected_flash_1\"), \n",
    "                                minimum_percentage_probability=10, frame_detection_interval=5,\n",
    "                                frames_per_second=30, log_progress=False)\n",
    "end = time.time()\n",
    "print('Execution time for detection speed=flash,frame_detection_interval=5, Minimum Percentage Probability = 10, frames_per_second=30, log_progress=False  is {}'.format((end-start)/60))\n",
    "end-start"
   ]
  },
  {
   "cell_type": "code",
   "execution_count": 8,
   "metadata": {},
   "outputs": [
    {
     "name": "stdout",
     "output_type": "stream",
     "text": [
      "Execution time for custom detection speed=flash,frame_detection_interval=5, Minimum Percentage Probability = 10, frames_per_second=30, log_progress=False  is 2.811041768391927\n"
     ]
    },
    {
     "data": {
      "text/plain": [
       "168.66250610351562"
      ]
     },
     "execution_count": 8,
     "metadata": {},
     "output_type": "execute_result"
    }
   ],
   "source": [
    "custom_objects = detector.CustomObjects(person=True, car=True, bus=True, truck=True)\n",
    "\n",
    "start = time.time()\n",
    "detector.detectCustomObjectsFromVideo(custom_objects=custom_objects,\n",
    "                                      input_file_path=os.path.join(execution_path, \"traffic.mp4\"),\n",
    "                                      output_file_path=os.path.join(execution_path, \"traffic_custom_detected_flash_1\"),\n",
    "                                      minimum_percentage_probability=10,frame_detection_interval=5,\n",
    "                                      frames_per_second=30, log_progress=False)\n",
    "end = time.time()\n",
    "print('Execution time for custom detection speed=flash,frame_detection_interval=5, Minimum Percentage Probability = 10, frames_per_second=30, log_progress=False  is {}'.format((end-start)/60))\n",
    "end-start"
   ]
  },
  {
   "cell_type": "code",
   "execution_count": null,
   "metadata": {},
   "outputs": [],
   "source": []
  }
 ],
 "metadata": {
  "kernelspec": {
   "display_name": "Python 3",
   "language": "python",
   "name": "python3"
  },
  "language_info": {
   "codemirror_mode": {
    "name": "ipython",
    "version": 3
   },
   "file_extension": ".py",
   "mimetype": "text/x-python",
   "name": "python",
   "nbconvert_exporter": "python",
   "pygments_lexer": "ipython3",
   "version": "3.6.6"
  }
 },
 "nbformat": 4,
 "nbformat_minor": 2
}
